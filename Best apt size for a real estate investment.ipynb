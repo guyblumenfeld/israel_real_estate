{
 "cells": [
  {
   "cell_type": "code",
   "execution_count": 73,
   "id": "53ff5f85",
   "metadata": {},
   "outputs": [],
   "source": [
    "import pandas as pd \n",
    "from prices_by_size_eng import vis_all_areas_averages_line, fix_dates, select_cols_and_fix_types, normalize_values\n",
    "import matplotlib.pyplot as plt"
   ]
  },
  {
   "cell_type": "code",
   "execution_count": 24,
   "id": "ba057b92",
   "metadata": {},
   "outputs": [],
   "source": [
    "df = pd.read_csv(\"data\\\\prices_by_city_and_rooms.csv\")\n",
    "df = fix_dates(df)\n",
    "df = select_cols_and_fix_types(df)\n",
    "df = normalize_values(df)\n",
    "\n",
    "# relative price => price change (base 2017 = 100)"
   ]
  },
  {
   "cell_type": "markdown",
   "id": "467ee5eb",
   "metadata": {},
   "source": [
    "# Which size of apartment is the best for an investment in israel?\n",
    "Many real estate investors are debating the question which size of apartment tend to appreciate more over time, unfortunately I do not have a crystal ball, but I do have really interesting data from the central bureau of statistics that since 2017 are collecting data about various apartment sizes in many cities and areas in israel.\n",
    "\n",
    "we will start with a look on the price changes of each apartment size group in average all over the country."
   ]
  },
  {
   "cell_type": "markdown",
   "id": "683a8ff2",
   "metadata": {},
   "source": [
    "<img src=\"data/plots/plot1.png\" width=1080 height=120 />"
   ]
  },
  {
   "cell_type": "markdown",
   "id": "ac86bc61",
   "metadata": {},
   "source": [
    "We can see in the chart that the price changes of apartments in different sizes are highly correlated, however they are not th same. \n",
    "\n",
    "in 2021 the 4-6 rooms apartment appreciated the most, a good explanation can be covid-19, that lead people to spend much more time at home, and even work from home in many cases, therefore the demand for bigger rose.\n",
    " \n",
    "in order to measure the precise accumulated change in prices in all the years we have data on i will use a bar chart."
   ]
  },
  {
   "cell_type": "markdown",
   "id": "9827772a",
   "metadata": {},
   "source": [
    "<img src=\"data/plots/plot2.png\" width=1080 height=120 />"
   ]
  },
  {
   "cell_type": "markdown",
   "id": "1c6609bb",
   "metadata": {},
   "source": [
    "The highest price increase was at small 1-2 rooms apartments, and large 4-6 rooms apartments. \n",
    "\n",
    "The large apartments appreciated more than other sizes for many reasons, a big reason in my opinion is covid-19 which I already explained.\n",
    "\n",
    "Throughout the history of israel very few small 1-2 rooms apartments were built, the main reasons are: \n",
    "- back in the days people used to get married and start a family in a very young age, so they moved directly from their parents home with their spouse.\n",
    "- in the last 20 years more and more people are getting divorced and therefore need smaller apartments\n",
    "- the cities have the exclusive authorty to let contractors build new appartments, and they prefer big apartments with more square foot to charge property tax on. another important point is that they do not have the authority to change the property tax rate and structure. \n",
    "\n",
    "with all of that said, there are many other parameters affecting the price change of an appartment and a major one of them is the location of the apartment, in the chart below I will look at the different changes in each apartments size group in each district of the country separately. "
   ]
  },
  {
   "cell_type": "markdown",
   "id": "002af8ee",
   "metadata": {},
   "source": [
    "<img src=\"data/plots/plot3.png\" width=1080 height=3 />"
   ]
  },
  {
   "cell_type": "markdown",
   "id": "b87a85e2",
   "metadata": {},
   "source": [
    "<img src=\"data/plots/plot4.png\" width=1080 height=60 />"
   ]
  },
  {
   "cell_type": "markdown",
   "id": "bf3507b1",
   "metadata": {},
   "source": [
    "<img src=\"data/plots/plot5.png\" width=1080 height=60 />"
   ]
  },
  {
   "cell_type": "markdown",
   "id": "b15451c9",
   "metadata": {},
   "source": [
    "<img src=\"data/plots/plot6.png\" width=1080 height=60 />"
   ]
  },
  {
   "cell_type": "markdown",
   "id": "b89db052",
   "metadata": {},
   "source": [
    "<img src=\"data/plots/plot7.png\" width=1080 height=60 />"
   ]
  },
  {
   "cell_type": "markdown",
   "id": "c719711e",
   "metadata": {},
   "source": [
    "<img src=\"data/plots/plot8.png\" width=1080 height=60 />"
   ]
  },
  {
   "cell_type": "markdown",
   "id": "1eed2912",
   "metadata": {},
   "source": [
    "<img src=\"data/plots/plot9.png\" width=1080 height=2000 />"
   ]
  },
  {
   "cell_type": "markdown",
   "id": "fb45744f",
   "metadata": {},
   "source": [
    "In those charts we can see that the size of the apartment is affecting its price change in a different way in each district of the country.\n",
    "intersting points to notice: \n",
    "- 5.5-6 rooms apartments appriciated by more than 25% in haifa and the south, but much less in other areas. \n",
    "- 1-2 rooms apartments appriciated the most in all areas but the North.\n",
    "\n",
    "#### In conclusion:\n",
    "1-2 rooms apartments appreciated significantly more than apartments in other sizes, all over the country. but with that said, investing in real estate is nothing like investing in an index fund, and every apartment have its unique story and properties.\n",
    "\n",
    "another major factor in this choice is the tax and mortgage rules:\n",
    "- Motgage: a person without an apartment can take up to 75% of the money for the purchuse from the bank, compared to up to 50% on the second apartment, there are some ways around that of course, but I will include them in another article. \n",
    "- Tax: a person without an apartment does not have to pay the 8% purchase tax on the first 1.8M NIS of the aprtment price, and pays less than 8% on the rest. \n",
    "\n",
    "therefore in many cases the it might better to buy a bigger apartment as the first apartment.  "
   ]
  }
 ],
 "metadata": {
  "kernelspec": {
   "display_name": "Python 3",
   "language": "python",
   "name": "python3"
  },
  "language_info": {
   "codemirror_mode": {
    "name": "ipython",
    "version": 3
   },
   "file_extension": ".py",
   "mimetype": "text/x-python",
   "name": "python",
   "nbconvert_exporter": "python",
   "pygments_lexer": "ipython3",
   "version": "3.8.8"
  }
 },
 "nbformat": 4,
 "nbformat_minor": 5
}
